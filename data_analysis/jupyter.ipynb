{
 "cells": [
  {
   "cell_type": "markdown",
   "metadata": {},
   "source": [
    "### Imports"
   ]
  },
  {
   "cell_type": "code",
   "execution_count": 4,
   "metadata": {},
   "outputs": [],
   "source": [
    "import matplotlib.pyplot as plt\n",
    "import pandas as pd\n",
    "import numpy as np\n"
   ]
  },
  {
   "cell_type": "markdown",
   "metadata": {},
   "source": [
    "### Color gradient values"
   ]
  },
  {
   "cell_type": "code",
   "execution_count": 5,
   "metadata": {},
   "outputs": [],
   "source": [
    "\n",
    "color_gradients = [\n",
    "    # Rookie (Purple Theme)\n",
    "    '#D0D0FF', '#ADADFF', '#8585FF', '#5C5CFF', '#3333FF',\n",
    "\n",
    "    # Iron\n",
    "    '#E5E5E5', '#BFBFBF', '#999999', '#737373', '#4D4D4D',\n",
    "\n",
    "    # Bronze (Darker Brown)\n",
    "    '#8B4513', '#7A3C12', '#693411', '#582C10', '#47240F',\n",
    "\n",
    "    # Silver\n",
    "    '#CCCCCC', '#A6A6A6', '#808080', '#595959', '#333333',\n",
    "\n",
    "    # Gold\n",
    "    '#FFD700', '#FFC100', '#FFAB00', '#FF9500', '#FF8000',\n",
    "\n",
    "    # Platinum\n",
    "    '#99CC99', '#88BB88', '#77AA77', '#669966', '#558855',\n",
    "\n",
    "    # Diamond\n",
    "    '#00BFFF', '#00AEEF', '#00A1DF', '#0093CE', '#0086BE',\n",
    "\n",
    "    # Master (Deeper Red)\n",
    "    '#800000'\n",
    "]\n"
   ]
  },
  {
   "cell_type": "markdown",
   "metadata": {},
   "source": [
    "### Open CSV"
   ]
  },
  {
   "cell_type": "code",
   "execution_count": 6,
   "metadata": {},
   "outputs": [
    {
     "data": {
      "text/plain": [
       "<Figure size 1000x1000 with 0 Axes>"
      ]
     },
     "metadata": {},
     "output_type": "display_data"
    }
   ],
   "source": [
    "plt.figure(figsize=(10,10))\n",
    "data = pd.read_csv('../rank_distribution.csv')\n",
    "data.drop('Unnamed: 0',axis=1,inplace=True)\n"
   ]
  },
  {
   "cell_type": "markdown",
   "metadata": {},
   "source": [
    "### Configure indices based on rank titles"
   ]
  },
  {
   "cell_type": "code",
   "execution_count": 7,
   "metadata": {},
   "outputs": [],
   "source": [
    "\n",
    "grouped = data.groupby('League').sum()\n",
    "test_df=grouped\n",
    "grouped['Ind']=[2,6,4,1,7,5,0,3]\n",
    "grouped.sort_values('Ind',inplace=True)\n",
    "grouped.reset_index()\n",
    "grouped.drop('Ind',axis=1,inplace=True)\n",
    "grouped.drop('Division',axis=1,inplace=True)\n",
    "\n"
   ]
  },
  {
   "cell_type": "markdown",
   "metadata": {},
   "source": [
    "### Export to CSV based on current date"
   ]
  },
  {
   "cell_type": "code",
   "execution_count": 8,
   "metadata": {},
   "outputs": [
    {
     "data": {
      "text/plain": [
       "'League,Number of Players\\r\\nRookie,52693\\r\\nIron,96152\\r\\nBronze,96643\\r\\nSilver,137935\\r\\nGold,119876\\r\\nPlatinum,152281\\r\\nDiamond,42081\\r\\nMaster,16466\\r\\n'"
      ]
     },
     "execution_count": 8,
     "metadata": {},
     "output_type": "execute_result"
    }
   ],
   "source": [
    "\n",
    "grouped.to_csv()\n",
    "\n"
   ]
  }
 ],
 "metadata": {
  "kernelspec": {
   "display_name": "base",
   "language": "python",
   "name": "python3"
  },
  "language_info": {
   "codemirror_mode": {
    "name": "ipython",
    "version": 3
   },
   "file_extension": ".py",
   "mimetype": "text/x-python",
   "name": "python",
   "nbconvert_exporter": "python",
   "pygments_lexer": "ipython3",
   "version": "3.11.5"
  }
 },
 "nbformat": 4,
 "nbformat_minor": 2
}
